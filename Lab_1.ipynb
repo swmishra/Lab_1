{
  "nbformat": 4,
  "nbformat_minor": 0,
  "metadata": {
    "colab": {
      "name": "Lab_1",
      "provenance": [],
      "authorship_tag": "ABX9TyOleKmBZiq6DZx6qY76N70e",
      "include_colab_link": true
    },
    "kernelspec": {
      "name": "python3",
      "display_name": "Python 3"
    }
  },
  "cells": [
    {
      "cell_type": "markdown",
      "metadata": {
        "id": "view-in-github",
        "colab_type": "text"
      },
      "source": [
        "<a href=\"https://colab.research.google.com/github/swmishra/Lab_1/blob/main/Lab_1.ipynb\" target=\"_parent\"><img src=\"https://colab.research.google.com/assets/colab-badge.svg\" alt=\"Open In Colab\"/></a>"
      ]
    },
    {
      "cell_type": "code",
      "metadata": {
        "colab": {
          "base_uri": "https://localhost:8080/"
        },
        "id": "uTEOUOhXuWaA",
        "outputId": "3dd45b52-2fb8-4425-e669-aedab40e6472"
      },
      "source": [
        "#Converting feet to inches for a rectangular land plot\r\n",
        "plot_length_feet = 50\r\n",
        "plot_width_feet = 20\r\n",
        "plot_length_inches = (plot_length_feet*12)\r\n",
        "plot_width_inches = (plot_width_feet*12)\r\n",
        "print(plot_length_inches)\r\n",
        "print(plot_width_inches)"
      ],
      "execution_count": 7,
      "outputs": [
        {
          "output_type": "stream",
          "text": [
            "600\n",
            "240\n"
          ],
          "name": "stdout"
        }
      ]
    },
    {
      "cell_type": "code",
      "metadata": {
        "colab": {
          "base_uri": "https://localhost:8080/"
        },
        "id": "9UYDQrltWybG",
        "outputId": "94e8a70b-4aba-4d01-ce9a-afdea8ec882c"
      },
      "source": [
        "#Calculating total land area in square meters\r\n",
        "plot_length_inches = 600\r\n",
        "plot_width_inches = 240\r\n",
        "area_square_meters = (plot_length_inches*plot_width_inches)\r\n",
        "print(area_square_meters)\r\n"
      ],
      "execution_count": 9,
      "outputs": [
        {
          "output_type": "stream",
          "text": [
            "144000\n"
          ],
          "name": "stdout"
        }
      ]
    },
    {
      "cell_type": "code",
      "metadata": {
        "colab": {
          "base_uri": "https://localhost:8080/"
        },
        "id": "xgJeojS7ZlsN",
        "outputId": "0f5e5f69-c05d-4e51-c5c7-9502810bf733"
      },
      "source": [
        "#Calculating total amount of rainfall in cubic inches\r\n",
        "rainstorm_inches = 1\r\n",
        "rainfall_cubic_inches = (plot_length_inches*plot_width_inches*rainstorm_inches)\r\n",
        "print(rainfall_cubic_inches)"
      ],
      "execution_count": 12,
      "outputs": [
        {
          "output_type": "stream",
          "text": [
            "144000\n"
          ],
          "name": "stdout"
        }
      ]
    },
    {
      "cell_type": "code",
      "metadata": {
        "colab": {
          "base_uri": "https://localhost:8080/"
        },
        "id": "CtoEzWJ8aRnE",
        "outputId": "416934d1-96d6-47ff-90d8-52e4d259a064"
      },
      "source": [
        "#Calculating toal runoff in gallons\r\n",
        "rainfall_cubic_inches = 144000\r\n",
        "runoff_gallons = (rainfall_cubic_inches*0.004329)\r\n",
        "print(runoff_gallons)"
      ],
      "execution_count": null,
      "outputs": [
        {
          "output_type": "stream",
          "text": [
            "623.3760000000001\n"
          ],
          "name": "stdout"
        }
      ]
    }
  ]
}